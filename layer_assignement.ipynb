{
 "cells": [
  {
   "cell_type": "code",
   "execution_count": 12,
   "metadata": {},
   "outputs": [
    {
     "name": "stdout",
     "output_type": "stream",
     "text": [
      "{1: (0, 0), 2: (1, 1), 3: (2, 0), 4: (1, -1), 5: (3, 5), 6: (3, 1)}\n"
     ]
    },
    {
     "data": {
      "image/png": "[encoded data removed]",
      "text/plain": [
       "<Figure size 640x480 with 1 Axes>"
      ]
     },
     "metadata": {},
     "output_type": "display_data"
    }
   ],
   "source": [
    "import networkx as nx\n",
    "import matplotlib.pyplot as plt\n",
    "\n",
    "# Create a directed acyclic graph (DAG)\n",
    "acyclic_graph = nx.DiGraph()\n",
    "acyclic_graph.add_node(1, pos=(0, 0))\n",
    "acyclic_graph.add_node(2, pos=(1, 1))\n",
    "acyclic_graph.add_node(3, pos=(2, 0))\n",
    "acyclic_graph.add_node(4, pos=(1, -1))\n",
    "acyclic_graph.add_node(5, pos=(3, 5))\n",
    "acyclic_graph.add_node(6, pos=(3, 1))\n",
    "\n",
    "#acyclic_graph.add_edges_from([(1, 2), (1,4), (2, 3), (2, 4), (3, 5), (3, 6), (4, 7), (4, 8), (5,9), (5,8), (8,6)])\n",
    "acyclic_graph.add_edges_from([(1,2), (2,3), (3,4), (1,4), (3,5), (5,4), (1,5), (2,6)])\n",
    "node_positions = nx.get_node_attributes(acyclic_graph, 'pos')\n",
    "print(node_positions) \n",
    "acyclic_graph_dict = {node: list(acyclic_graph.successors(node)) for node in acyclic_graph.nodes}\n",
    "# Visualize the acyclic graph (optional)\n",
    "nx.draw(acyclic_graph, node_positions , with_labels=True, font_weight='bold', arrowsize=20)  \n",
    "plt.show()"
   ]
  },
  {
   "cell_type": "code",
   "execution_count": null,
   "metadata": {},
   "outputs": [],
   "source": []
  },
  {
   "cell_type": "code",
   "execution_count": 13,
   "metadata": {},
   "outputs": [],
   "source": [
    "def topological_sort(graph):\n",
    "    # Helper function for recursive depth-first search\n",
    "    def dfs(node):\n",
    "        visited.add(node)\n",
    "        for neighbor in graph[node]:\n",
    "            if neighbor not in visited:\n",
    "                dfs(neighbor)\n",
    "        topological_order.insert(0, node)\n",
    "\n",
    "    visited = set()\n",
    "    topological_order = []\n",
    "\n",
    "    # Perform depth-first search for each unvisited node\n",
    "    for node in graph:\n",
    "        if node not in visited:\n",
    "            dfs(node)\n",
    "\n",
    "    return topological_order\n",
    "\n",
    "def layer_assignment(acyclic_graph):\n",
    "#The layer of a node is determined by considering the maximum layer of its incoming neighbors and incrementing it.\n",
    "    topological_order = topological_sort(acyclic_graph)\n",
    "    layers = {node: 0 for node in acyclic_graph}  # Initialize all nodes to Layer 0\n",
    "    \n",
    "    for node in topological_order:\n",
    "        in_neighbors = [neighbor for neighbor, successors in acyclic_graph.items() if node in successors]\n",
    "        layer = max([layers[neighbor] for neighbor in in_neighbors], default=-1) + 1\n",
    "        layers[node] = layer\n",
    "\n",
    "    return layers\n",
    "\n",
    "def y_coordinate_assignment(layers):\n",
    "#assigns y-coordinates to nodes based on their layers. It sorts the nodes by layer and assigns y-coordinates in increasing order.\n",
    "    sorted_nodes = sorted(layers.keys(), key=lambda node: layers[node])\n",
    "    y_coordinates = {node: layer for layer, node in enumerate(sorted_nodes)}\n",
    "    return y_coordinates\n"
   ]
  },
  {
   "cell_type": "code",
   "execution_count": 14,
   "metadata": {},
   "outputs": [],
   "source": [
    "import pydot\n",
    "\n",
    "def height_optimization(graph):\n",
    "    layers = []  # List to store layers\n",
    "    while graph.nodes():\n",
    "        sources = [node for node in graph.nodes() if not list(graph.predecessors(node))]\n",
    "        layers.append(sources)\n",
    "        graph.remove_nodes_from(sources)\n",
    "    return layers\n",
    "\n",
    "def y_coordinate_assignment_with_height_optimization(graph):\n",
    "    height_optimization_layers = height_optimization(graph)\n",
    "    y_coordinates = {}\n",
    "    #print(height_optimization_layers)\n",
    "    # Assign y-coordinates based on the height optimization layers\n",
    "    for layer_index, layer in enumerate(height_optimization_layers):\n",
    "        for node in layer:\n",
    "            y_coordinates[node] = layer_index\n",
    "\n",
    "    return y_coordinates, height_optimization_layers\n",
    "\n",
    "\n"
   ]
  },
  {
   "cell_type": "code",
   "execution_count": 15,
   "metadata": {},
   "outputs": [
    {
     "ename": "AttributeError",
     "evalue": "'tuple' object has no attribute 'items'",
     "output_type": "error",
     "traceback": [
      "\u001b[1;31m---------------------------------------------------------------------------\u001b[0m",
      "\u001b[1;31mAttributeError\u001b[0m                            Traceback (most recent call last)",
      "Cell \u001b[1;32mIn[15], line 9\u001b[0m\n\u001b[0;32m      4\u001b[0m \u001b[38;5;66;03m# # Perform y-coordinate assignment based on layers\u001b[39;00m\n\u001b[0;32m      5\u001b[0m \u001b[38;5;66;03m# #y_coordinates = y_coordinate_assignment(layers)\u001b[39;00m\n\u001b[0;32m      6\u001b[0m \n\u001b[0;32m      7\u001b[0m \u001b[38;5;66;03m# #Perform y-coordinate assignment based on height optimization\u001b[39;00m\n\u001b[0;32m      8\u001b[0m y_coordinates_with_height_optimization \u001b[38;5;241m=\u001b[39m y_coordinate_assignment_with_height_optimization(acyclic_graph)\n\u001b[1;32m----> 9\u001b[0m \u001b[38;5;28;01mfor\u001b[39;00m node, y_coordinate \u001b[38;5;129;01min\u001b[39;00m \u001b[38;5;28msorted\u001b[39m(\u001b[43my_coordinates_with_height_optimization\u001b[49m\u001b[38;5;241;43m.\u001b[39;49m\u001b[43mitems\u001b[49m()):\n\u001b[0;32m     10\u001b[0m     node_positions[node] \u001b[38;5;241m=\u001b[39m (node_positions[node][\u001b[38;5;241m0\u001b[39m],y_coordinate)\n\u001b[0;32m     11\u001b[0m     \u001b[38;5;28mprint\u001b[39m(node_positions[node][\u001b[38;5;241m0\u001b[39m],y_coordinate)\n",
      "\u001b[1;31mAttributeError\u001b[0m: 'tuple' object has no attribute 'items'"
     ]
    }
   ],
   "source": [
    "# Perform layer assignment\n",
    "layers = layer_assignment(acyclic_graph_dict)\n",
    "\n",
    "# # Perform y-coordinate assignment based on layers\n",
    "# #y_coordinates = y_coordinate_assignment(layers)\n",
    "\n",
    "# #Perform y-coordinate assignment based on height optimization\n",
    "y_coordinates_with_height_optimization = y_coordinate_assignment_with_height_optimization(acyclic_graph)\n",
    "for node, y_coordinate in sorted(y_coordinates_with_height_optimization.items()):\n",
    "    node_positions[node] = (node_positions[node][0],y_coordinate)\n",
    "    print(node_positions[node][0],y_coordinate)\n",
    "    \n",
    "print(node_positions)\n",
    "\n",
    "\n",
    "\n",
    "nx.draw(acyclic_graph,node_positions ,with_labels=True, font_weight='bold', arrowsize=20)  \n",
    "plt.show()\n",
    "\n",
    "#Print the layer assignment and y-coordinate assignment\n",
    "# for node, layer in layers.items():\n",
    "#     print(f\"Node {node}: Layer {layer}, y-coordinate = {y_coordinates[node]}\")\n",
    "\n",
    "for node, y_coordinate in sorted(y_coordinates_with_height_optimization.items()):\n",
    "   print(f\"Node {node}: y-coordinate = {y_coordinate}\")"
   ]
  },
  {
   "cell_type": "code",
   "execution_count": null,
   "metadata": {},
   "outputs": [],
   "source": [
    "\n",
    "import networkx as nx\n",
    "import matplotlib.pyplot as plt\n",
    "\n",
    "\n",
    "def calculate_crossings(graph):\n",
    "    crossings = 0\n",
    "    for u, v in graph.edges():\n",
    "        for w, x in graph.edges():\n",
    "            if u != w and u != x and v != w and v != x:\n",
    "                if (u < w < v < x) or (w < u < x < v):\n",
    "                    crossings += 1\n",
    "    return crossings // 2\n",
    "\n"
   ]
  },
  {
   "cell_type": "code",
   "execution_count": 16,
   "metadata": {},
   "outputs": [
    {
     "name": "stdout",
     "output_type": "stream",
     "text": [
      "{}\n",
      "{1: (0, 0), 2: (1, 1), 3: (2, 0), 4: (1, -1), 5: (3, 5), 6: (3, 1)}\n"
     ]
    },
    {
     "data": {
      "image/png": "[encoded data removed]",
      "text/plain": [
       "<Figure size 640x480 with 1 Axes>"
      ]
     },
     "metadata": {},
     "output_type": "display_data"
    }
   ],
   "source": [
    "#Example layer assignment\n",
    "\n",
    "y_coordinates_with_height_optimization, layers = y_coordinate_assignment_with_height_optimization(acyclic_graph.copy())\n",
    "\n",
    "for node, y_coordinate in sorted(y_coordinates_with_height_optimization.items()):\n",
    "    node_positions[node] = (node_positions[node][0],y_coordinate)\n",
    "\n",
    "layers_new = {}\n",
    "for i,item in enumerate(layers):\n",
    "    layers_new[i] = item\n",
    "\n",
    "def get_edges(graph, node):\n",
    "    edge_list = []\n",
    "    for edge in graph.edges():\n",
    "        source, dest = edge\n",
    "        if source == node:\n",
    "            edge_list.append(dest)\n",
    "    return edge_list\n",
    "\n",
    "\n",
    "\n",
    "print(layers_new)\n",
    "\n",
    "layer_crossing_edges = {}\n",
    "for key in layers_new:\n",
    "    for value in layers_new[key]:\n",
    "        edges = get_edges(acyclic_graph, value)\n",
    "        for dest in edges:\n",
    "            if dest not in layers_new[key+1]:\n",
    "                layer_crossing_edges[key] = (value, dest) \n",
    "            \n",
    "\n",
    "for key in layer_crossing_edges:\n",
    "    source, dest = layer_crossing_edges[key]\n",
    "\n",
    "    acyclic_graph.add_node(source, pos=(node_positions[source][0], int(key)+1))\n",
    "    node_positions[source] = (node_positions[source][0], int(key)+1)\n",
    "    print(source)\n",
    "    #rint(f\"removed {source} - {dest}\")\n",
    "\n",
    "print(node_positions)\n",
    "\n",
    "nx.draw(acyclic_graph,node_positions ,with_labels=True, font_weight='bold', arrowsize=20)\n",
    "plt.show()\n"
   ]
  },
  {
   "cell_type": "code",
   "execution_count": null,
   "metadata": {},
   "outputs": [],
   "source": []
  },
  {
   "cell_type": "code",
   "execution_count": null,
   "metadata": {},
   "outputs": [],
   "source": [
    "# #TRASH\n",
    "\n",
    "# prev_crossings = calculate_crossings(acyclic_graph)\n",
    "# print(layers)\n",
    "# print(y_coordinates_with_height_optimization)\n",
    "# #print(prev_crossings)\n",
    "# for _ in range(10): \n",
    "#     #median_positions = median_heuristic(acyclic_graph, node_positions)\n",
    "#     barycenter_positions = barycenter_heuristic(acyclic_graph, node_positions)\n",
    "#     crossings = calculate_crossings(acyclic_graph)\n",
    "#     # if crossings >= prev_crossings:\n",
    "#     #     break  \n",
    "#     prev_crossings = crossings\n",
    "#     print(crossings)\n",
    "#     #print(barycenter_positions)\n",
    "    \n",
    "\n",
    "#     test = dict(sorted(barycenter_positions.items(), reverse=True))\n",
    "#     print(test)    \n",
    "#     nx.draw(acyclic_graph,test ,with_labels=True, font_weight='bold', arrowsize=20, font_color=\"red\")\n",
    "#     plt.show()\n",
    "\n"
   ]
  }
 ],
 "metadata": {
  "kernelspec": {
   "display_name": "Python 3",
   "language": "python",
   "name": "python3"
  },
  "language_info": {
   "codemirror_mode": {
    "name": "ipython",
    "version": 3
   },
   "file_extension": ".py",
   "mimetype": "text/x-python",
   "name": "python",
   "nbconvert_exporter": "python",
   "pygments_lexer": "ipython3",
   "version": "3.10.0"
  }
 },
 "nbformat": 4,
 "nbformat_minor": 2
}
