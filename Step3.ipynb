{
 "cells": [
  {
   "cell_type": "markdown",
   "metadata": {},
   "source": [
    "# Step 3"
   ]
  },
  {
   "cell_type": "code",
   "execution_count": 2,
   "metadata": {},
   "outputs": [],
   "source": [
    "import pydot\n",
    "import matplotlib.pyplot as plt\n",
    "import time\n",
    "import math\n",
    "import random\n",
    "import numpy as np\n",
    "from scipy.special import comb"
   ]
  },
  {
   "cell_type": "code",
   "execution_count": 1,
   "metadata": {},
   "outputs": [],
   "source": [
    "%run '/Users/tomascarrilho/Desktop/Faculdade/Data Visualization/Project/Data_Visualization/Step2.ipynb'"
   ]
  },
  {
   "cell_type": "markdown",
   "metadata": {},
   "source": [
    "## Force Directed Layout"
   ]
  },
  {
   "cell_type": "code",
   "execution_count": null,
   "metadata": {},
   "outputs": [],
   "source": [
    "def force_directed_layout(file, max_ites=1000,convergence_threshold=0.0005, plot='No', c_spring=2, c_rep=1, l=1, step=0.04,c = 'green'): #node_positions\n",
    "    nodes, edges, node_list, edge_list, weights = get_data(file)[0], get_data(file)[1], get_data(file)[2], get_data(file)[3], get_data(file)[4]\n",
    "    node_positions = {node.get_name(): (random.uniform(0, 50), random.uniform(0, 50)) for node in nodes}\n",
    "\n",
    "    l_changes = []\n",
    "    ite = 0\n",
    "    while ite < max_ites:\n",
    "        changes = []\n",
    "        for u in nodes:\n",
    "            force_x = 0\n",
    "            force_y = 0\n",
    "            pu = node_positions[u.get_name()]\n",
    "\n",
    "            for v in nodes:\n",
    "                if u.get_name() != v.get_name():\n",
    "                    pv = node_positions[v.get_name()]\n",
    "                    dist = math.sqrt((pu[0]-pv[0])**2 + (pu[1]-pv[1])**2)\n",
    "                    if dist == 0:\n",
    "                        dist = 1\n",
    "\n",
    "                    # Spring\n",
    "                    if (u.get_name(), v.get_name()) in edge_list or (v.get_name(), u.get_name()) in edge_list:\n",
    "                        constant = c_spring*math.log(dist)/l\n",
    "                        force_x += (pv[0]-pu[0])*constant/dist\n",
    "                        force_y += (pv[1]-pu[1])*constant/dist\n",
    "                    # Repulsion\n",
    "                    else:\n",
    "                        constant = c_rep/dist**2\n",
    "                        force_x += (pu[0]-pv[0])*constant/dist\n",
    "                        force_y += (pu[1]-pv[1])*constant/dist\n",
    "            changes.append(math.sqrt((force_x*step)**2 + (force_y*step)**2))\n",
    "            new_x = pu[0] + force_x*step\n",
    "            new_y = pu[1] + force_y*step\n",
    "            node_positions[u.get_name()] = (new_x,new_y)\n",
    "\n",
    "        average_movement = sum(changes) / len(changes)\n",
    "        l_changes.append(average_movement)\n",
    "        \n",
    "        \n",
    "        if average_movement < convergence_threshold:\n",
    "            print(\"convergence signal!!!\", ite) \n",
    "            break\n",
    "        \n",
    "        ite += 1\n",
    "        step = step*0.99\n",
    "\n",
    "    if plot != 'No':\n",
    "        plt.figure(figsize=(18, 18))     \n",
    "  \n",
    "        for edge in edge_list:#edges:\n",
    "\n",
    "            start_node = edge[0]#.get_source()\n",
    "            end_node = edge[1]#.get_destination()\n",
    "            # position = str(str(edge.get_attributes())).rfind(':')\n",
    "            # if int(position) != -1:\n",
    "            #     w = int(str(edge.get_attributes())[position+3:-2])\n",
    "            #     if w != 1:\n",
    "            #         w = w/10\n",
    "            start_pos = node_positions[start_node]\n",
    "            end_pos = node_positions[end_node]\n",
    "            plt.plot([start_pos[0], end_pos[0]], [start_pos[1], end_pos[1]], 'k-',zorder = 1) #linewidth=w,\n",
    "        \n",
    "\n",
    "        for node, pos in node_positions.items():\n",
    "            plt.scatter(pos[0], pos[1], color=c, s=500, marker='o', zorder =2)  # vse marker='o' for circle markers\n",
    "            plt.text(pos[0], pos[1], str(node), fontsize=10, ha='center', va='center')\n",
    "        plt.axis('off')\n",
    "        plt.gca().set_facecolor('w')\n",
    "        #plt.savefig('Plots/'+tree+'_'+layovt+'_plot.png')\n",
    "        plt.show()\n",
    "        #return None\n",
    "\n",
    "\n",
    "    return node_positions#, l_changes\n",
    "\n",
    "\n",
    "#l_f_v = force_directed_layout('Datasets/LesMiserables.dot', max_ites=1000, plot='Yes',c_spring=6)"
   ]
  },
  {
   "cell_type": "markdown",
   "metadata": {},
   "source": [
    "# Results"
   ]
  },
  {
   "cell_type": "markdown",
   "metadata": {},
   "source": [
    "### Iterations"
   ]
  },
  {
   "cell_type": "code",
   "execution_count": null,
   "metadata": {},
   "outputs": [],
   "source": [
    "# force_directed_layout('Datasets/LesMiserables.dot', max_ites=250,convergence_threshold=0,plot='yes')\n",
    "# force_directed_layout('Datasets/LesMiserables.dot', max_ites=500,convergence_threshold=0,plot='yes')\n",
    "# force_directed_layout('Datasets/LesMiserables.dot', max_ites=750,convergence_threshold=0,plot='yes')\n",
    "# force_directed_layout('Datasets/LesMiserables.dot', max_ites=1000,convergence_threshold=0,plot='yes')"
   ]
  },
  {
   "cell_type": "markdown",
   "metadata": {},
   "source": [
    "### Threshold"
   ]
  },
  {
   "cell_type": "markdown",
   "metadata": {},
   "source": [
    "convergence_threshold=0.0005"
   ]
  },
  {
   "cell_type": "code",
   "execution_count": null,
   "metadata": {},
   "outputs": [],
   "source": [
    "# force_directed_layout('Datasets/LesMiserables.dot', convergence_threshold=0.0005,plot='yes')\n",
    "# for _ in range(20):\n",
    "#     print(force_directed_layout('Datasets/LesMiserables.dot', convergence_threshold=0.0005))"
   ]
  },
  {
   "cell_type": "markdown",
   "metadata": {},
   "source": [
    "convergence_threshold=0.001"
   ]
  },
  {
   "cell_type": "code",
   "execution_count": null,
   "metadata": {},
   "outputs": [],
   "source": [
    "# force_directed_layout('Datasets/LesMiserables.dot', convergence_threshold=0.001,plot='yes')\n",
    "# for _ in range(20):\n",
    "#     print(force_directed_layout('Datasets/LesMiserables.dot', convergence_threshold=0.001))"
   ]
  },
  {
   "cell_type": "markdown",
   "metadata": {},
   "source": [
    "convergence_threshold=0.005"
   ]
  },
  {
   "cell_type": "code",
   "execution_count": null,
   "metadata": {},
   "outputs": [],
   "source": [
    "# force_directed_layout('Datasets/LesMiserables.dot', convergence_threshold=0.005,plot='yes')\n",
    "# for _ in range(20):\n",
    "#     print(force_directed_layout('Datasets/LesMiserables.dot', convergence_threshold=0.005))"
   ]
  },
  {
   "cell_type": "markdown",
   "metadata": {},
   "source": [
    "### Ideal spring force constant"
   ]
  },
  {
   "cell_type": "markdown",
   "metadata": {},
   "source": [
    "c_spring=2"
   ]
  },
  {
   "cell_type": "code",
   "execution_count": null,
   "metadata": {},
   "outputs": [],
   "source": [
    "# print(force_directed_layout('Datasets/LesMiserables.dot', max_ites=1000,plot='yes',c_spring=2))\n",
    "# for _ in range(20):\n",
    "#     print(force_directed_layout('Datasets/LesMiserables.dot', max_ites=1000,c_spring=2))"
   ]
  },
  {
   "cell_type": "markdown",
   "metadata": {},
   "source": [
    "c_spring=4"
   ]
  },
  {
   "cell_type": "code",
   "execution_count": null,
   "metadata": {},
   "outputs": [],
   "source": [
    "# print(force_directed_layout('Datasets/LesMiserables.dot',plot= 'Yes', max_ites=1000,c_spring=4))\n",
    "# for _ in range(20):\n",
    "#     print(force_directed_layout('Datasets/LesMiserables.dot', max_ites=1000,c_spring=4))"
   ]
  },
  {
   "cell_type": "markdown",
   "metadata": {},
   "source": [
    "c_spring=6"
   ]
  },
  {
   "cell_type": "code",
   "execution_count": null,
   "metadata": {},
   "outputs": [],
   "source": [
    "# print(force_directed_layout('Datasets/LesMiserables.dot',plot= 'Yes', max_ites=1000,c_spring=6))\n",
    "# for _ in range(20):\n",
    "#     print(force_directed_layout('Datasets/LesMiserables.dot', max_ites=1000,c_spring=6))"
   ]
  },
  {
   "cell_type": "markdown",
   "metadata": {},
   "source": [
    "### Ideal rep force constant"
   ]
  },
  {
   "cell_type": "markdown",
   "metadata": {},
   "source": [
    "c_rep=1"
   ]
  },
  {
   "cell_type": "code",
   "execution_count": null,
   "metadata": {},
   "outputs": [],
   "source": [
    "#print(force_directed_layout('Datasets/LesMiserables.dot',plot= 'Yes', max_ites=1000,c_spring=6,c_rep=1))\n",
    "# for _ in range(4):\n",
    "#     print(force_directed_layout('Datasets/LesMiserables.dot', max_ites=1000,c_spring=6,c_rep=1))"
   ]
  },
  {
   "cell_type": "markdown",
   "metadata": {},
   "source": [
    "c_rep=3"
   ]
  },
  {
   "cell_type": "code",
   "execution_count": null,
   "metadata": {},
   "outputs": [],
   "source": [
    "#print(force_directed_layout('Datasets/LesMiserables.dot',plot= 'Yes', max_ites=1000,c_spring=6,c_rep=3))\n",
    "# for _ in range(4):\n",
    "#     print(force_directed_layout('Datasets/LesMiserables.dot', max_ites=1000,c_spring=6,c_rep=3))"
   ]
  },
  {
   "cell_type": "markdown",
   "metadata": {},
   "source": [
    "c_rep=5"
   ]
  },
  {
   "cell_type": "code",
   "execution_count": null,
   "metadata": {},
   "outputs": [],
   "source": [
    "#print(force_directed_layout('Datasets/LesMiserables.dot',plot= 'Yes', max_ites=1000,c_spring=6,c_rep=5))\n",
    "# for _ in range(4):\n",
    "#     print(force_directed_layout('Datasets/LesMiserables.dot', max_ites=1000,c_spring=6,c_rep=5))"
   ]
  },
  {
   "cell_type": "markdown",
   "metadata": {},
   "source": [
    "### Ideal length"
   ]
  },
  {
   "cell_type": "markdown",
   "metadata": {},
   "source": [
    "l=1"
   ]
  },
  {
   "cell_type": "code",
   "execution_count": null,
   "metadata": {},
   "outputs": [],
   "source": [
    "#print(force_directed_layout('Datasets/LesMiserables.dot',plot= 'Yes', max_ites=1000,c_spring=6,c_rep=5, l=1))\n",
    "# for _ in range(4):\n",
    "#     print(force_directed_layout('Datasets/LesMiserables.dot', max_ites=1000,c_spring=6,c_rep=5,, l=1))"
   ]
  },
  {
   "cell_type": "markdown",
   "metadata": {},
   "source": [
    "l=2"
   ]
  },
  {
   "cell_type": "code",
   "execution_count": null,
   "metadata": {},
   "outputs": [],
   "source": [
    "#print(force_directed_layout('Datasets/LesMiserables.dot',plot= 'Yes', max_ites=1000,c_spring=6,c_rep=5, l=2))\n",
    "# for _ in range(4):\n",
    "#     print(force_directed_layout('Datasets/LesMiserables.dot', max_ites=1000,c_spring=6,c_rep=5,, l=2))"
   ]
  },
  {
   "cell_type": "markdown",
   "metadata": {},
   "source": [
    "l=3"
   ]
  },
  {
   "cell_type": "code",
   "execution_count": null,
   "metadata": {},
   "outputs": [],
   "source": [
    "#print(force_directed_layout('Datasets/LesMiserables.dot',plot= 'Yes', max_ites=1000,c_spring=6,c_rep=5, l=3))\n",
    "# for _ in range(4):\n",
    "#     print(force_directed_layout('Datasets/LesMiserables.dot', max_ites=1000,c_spring=6,c_rep=5,, l=3))"
   ]
  }
 ],
 "metadata": {
  "kernelspec": {
   "display_name": "base",
   "language": "python",
   "name": "python3"
  },
  "language_info": {
   "codemirror_mode": {
    "name": "ipython",
    "version": 3
   },
   "file_extension": ".py",
   "mimetype": "text/x-python",
   "name": "python",
   "nbconvert_exporter": "python",
   "pygments_lexer": "ipython3",
   "version": "3.8.8"
  }
 },
 "nbformat": 4,
 "nbformat_minor": 2
}
