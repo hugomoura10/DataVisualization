{
 "cells": [
  {
   "cell_type": "markdown",
   "metadata": {},
   "source": [
    "# Step 5"
   ]
  },
  {
   "cell_type": "code",
   "execution_count": 36,
   "metadata": {},
   "outputs": [],
   "source": [
    "import matplotlib.pyplot as plt\n",
    "import math"
   ]
  },
  {
   "cell_type": "markdown",
   "metadata": {},
   "source": [
    "## Uploading the functions from other files"
   ]
  },
  {
   "cell_type": "code",
   "execution_count": 37,
   "metadata": {},
   "outputs": [],
   "source": [
    "%run '/Users/tomascarrilho/Desktop/Faculdade/Data Visualization/Project/Data_Visualization/Step4.ipynb'"
   ]
  },
  {
   "cell_type": "markdown",
   "metadata": {},
   "source": [
    "## Getting the data"
   ]
  },
  {
   "cell_type": "code",
   "execution_count": 38,
   "metadata": {},
   "outputs": [],
   "source": [
    "def get_data_subgraph(file):\n",
    "    with open(file, 'r') as dot_file:\n",
    "        dot_data = dot_file.read()\n",
    "    graph = pydot.graph_from_dot_data(dot_data)[0]\n",
    "\n",
    "    nodes_dict = {str(subgraph.get_name().strip('\"').split(' ')[0]+subgraph.get_name().strip('\"').split(' ')[-1]):[node.get_name() for node in subgraph.get_nodes()] for subgraph in graph.get_subgraphs()}\n",
    "    edges_list = [(edge.get_source(),edge.get_destination()) for edge in graph.get_edges()]\n",
    "\n",
    "    return nodes_dict, edges_list\n",
    "\n",
    "#nodes_dict, edges_list = get_data_subgraph(\"Datasets/argnet.dot\")\n",
    "#nodes_dict, edges_list = get_data_subgraph(\"Datasets/polblogs.dot\")\n",
    "#print(nodes_dict)\n",
    "#print(edges_list)\n",
    "\n",
    "def get_subgraphs(file):\n",
    "    with open(file, 'r') as dot_file:\n",
    "        dot_data = dot_file.read()\n",
    "    graph = pydot.graph_from_dot_data(dot_data)[0]\n",
    "\n",
    "    nodes_dict = {'left': [node.get_name() for node in graph.get_nodes() if int(node.get_attributes()['value']) == 0], 'right': [node.get_name() for node in graph.get_nodes() if int(node.get_attributes()['value']) == 1] }\n",
    "    return nodes_dict\n",
    "\n",
    "#pol = get_subgraphs(\"Datasets/polblogs.dot\") #left = 758, right = 732, total = 1490"
   ]
  },
  {
   "cell_type": "code",
   "execution_count": 39,
   "metadata": {},
   "outputs": [],
   "source": [
    "def intra_subgraphs_edges(file,sg=True):\n",
    "    if sg == True:\n",
    "        nodes_dict, edges_list = get_data_subgraph(file)\n",
    "    else:\n",
    "        nodes_dict = get_subgraphs(file)\n",
    "        x, edges_list = get_data_subgraph(file)\n",
    "    intra_edges = {first_graph: [edge for edge in edges_list if edge[0] in nodes_dict[first_graph] and edge[1] in nodes_dict[first_graph]] for first_graph in nodes_dict.keys() }#{'Gap_Youngest\n",
    "    return intra_edges\n",
    "\n",
    "#print(intra_subgraphs_edges(\"Datasets/argnet.dot\"))\n",
    "#intra = intra_subgraphs_edges(\"Datasets/polblogs.dot\",sg=False))\n",
    "\n",
    "def inter_subgraphs_edges(file,sg=True):\n",
    "    if sg == True:\n",
    "        nodes_dict, edges_list = get_data_subgraph(file)\n",
    "    else:\n",
    "        nodes_dict = get_subgraphs(file)\n",
    "        x, edges_list = get_data_subgraph(file)\n",
    "    inter_edges = {str(first_graph+'_'+sec_graph): [edge for edge in edges_list if edge[0] in nodes_dict[first_graph] and edge[1] in nodes_dict[sec_graph]] for first_graph in nodes_dict.keys() for sec_graph in [key for key in nodes_dict.keys() if key != first_graph] }#{'Gap_Youngest}\n",
    "\n",
    "    return inter_edges\n",
    "\n",
    "#inter_subgraphs_edges(\"Datasets/argnet.dot\")\n",
    "#inter = inter_subgraphs_edges(\"Datasets/polblogs.dot\",sg=False)"
   ]
  },
  {
   "cell_type": "code",
   "execution_count": 40,
   "metadata": {},
   "outputs": [],
   "source": [
    "# intra = intra_subgraphs_edges(\"Datasets/polblogs.dot\",sg=False)\n",
    "# print(list(intra.keys()))\n",
    "# print(len(list(intra.keys())))\n",
    "# print(len(intra['left'])+len(intra['right']))"
   ]
  },
  {
   "cell_type": "code",
   "execution_count": 41,
   "metadata": {},
   "outputs": [],
   "source": [
    "# inter = inter_subgraphs_edges(\"Datasets/polblogs.dot\",sg=False)\n",
    "# print(list(inter.keys()))\n",
    "# print(len(list(inter.keys())))\n",
    "# print(len(inter['left_right'])+len(inter['right_left']))"
   ]
  },
  {
   "cell_type": "code",
   "execution_count": 42,
   "metadata": {},
   "outputs": [],
   "source": [
    "# print(len(inter['left_right'])+len(inter['right_left'])+len(intra['left'])+len(intra['right']))"
   ]
  },
  {
   "cell_type": "markdown",
   "metadata": {},
   "source": [
    "## Force Directed Layout"
   ]
  },
  {
   "cell_type": "markdown",
   "metadata": {},
   "source": [
    "### Compatibility"
   ]
  },
  {
   "cell_type": "code",
   "execution_count": 43,
   "metadata": {},
   "outputs": [],
   "source": [
    "def distance(X,Y):\n",
    "    return math.sqrt((X[0] - Y[0]) ** 2 + (X[1] - Y[1]) ** 2)\n",
    "\n",
    "def vector(node_positions,P = 0):\n",
    "    if P != 0:\n",
    "        return (node_positions[P[1]][0] - node_positions[P[0]][0],  node_positions[P[1]][1] - node_positions[P[0]][1])\n",
    "    else:\n",
    "        return (node_positions[1][0] - node_positions[0][0],  node_positions[1][1] - node_positions[0][1])\n",
    "\n",
    "def lenght(vector):\n",
    "    return math.sqrt(vector[0] ** 2 + vector[1] ** 2)\n",
    "\n",
    "def dot_prod(u,v):\n",
    "    return u[0] * v[0] + u[1] * v[1]\n",
    "\n",
    "def sum_vectors(u,v):\n",
    "    return (u[0] +v[0] , u[1] + v[1])\n",
    "\n",
    "def alpha_vector(alpha,u):\n",
    "    return (u[0]*alpha,u[1]*alpha)\n",
    "\n",
    "def mid_point(node_positions,P=0):\n",
    "    '''P is an edge like ('A','B'), and node_positions a dic {'A':(x,y),...}\n",
    "    '''\n",
    "    if P != 0:\n",
    "        return ((node_positions[P[0]][0] + node_positions[P[1]][0]) / 2, (node_positions[P[0]][1] + node_positions[P[1]][1]) / 2)\n",
    "    else:\n",
    "         return ((node_positions[0][0] + node_positions[1][0]) / 2, (node_positions[0][1] + node_positions[1][1]) / 2)\n",
    "\n",
    "\n",
    "def unit_vector(vector):\n",
    "    return (vector[0]/lenght(vector),vector[1]/lenght(vector))\n",
    "\n",
    "def angle_compatibility(P, Q, node_positions):\n",
    "    return abs(dot_prod(vector(node_positions,P), vector(node_positions,Q)) / (lenght( vector(node_positions,P)) * lenght( vector(node_positions,Q))))\n",
    "\n",
    "def scale_compatibility(P, Q, node_positions):\n",
    "    avg_length = (lenght( vector(node_positions,P)) + lenght( vector(node_positions,Q))) / 2\n",
    "    return 2 / (avg_length / min(lenght(vector(node_positions,P)), lenght( vector(node_positions,Q))) + max(lenght(vector(node_positions,P)), lenght( vector(node_positions,Q))) / avg_length)\n",
    "\n",
    "def distance_compatibility(P, Q, node_positions):\n",
    "    avg_length = (lenght( vector(node_positions,P)) + lenght( vector(node_positions,Q))) / 2\n",
    "    return avg_length / (avg_length + distance( mid_point(node_positions,P),mid_point(node_positions,Q)))\n",
    "\n",
    "def visibility_compatibility(P, Q, node_positions):\n",
    "    if unit_vector(vector(node_positions,P)) == unit_vector(vector(node_positions,Q)): # parallel\n",
    "        def vis(P,Q,node_positions):\n",
    "            distance_pm_im = distance(mid_point(node_positions,P),(mid_point(node_positions,Q)[0], node_positions[P[1]][1]))#i_m = (q_midpoint[0], node_positions[P[1]][1]),  q_midpoint = mid_point(Q,node_positions)\n",
    "            distance_i0_i1 = distance((node_positions[Q[0]][0],node_positions[P[1]][1]),(node_positions[Q[1]][0],node_positions[P[1]][1]))#i0 = (node_positions[Q[0]][0],node_positions[P[1]][1]),#i1 = (node_positions[Q[1]][0],node_positions[P[1]][1]) \n",
    "            return max(1 - 2 * distance_pm_im/  distance_i0_i1, 0)\n",
    "        return min(vis(P,Q,node_positions),vis(Q,P,node_positions))\n",
    "    return 1\n",
    "\n",
    "def combined_compatibility(P, Q, node_positions):\n",
    "    angle_compat = angle_compatibility(P, Q, node_positions)\n",
    "    scale_compat = scale_compatibility(P, Q, node_positions)\n",
    "    position_compat = distance_compatibility(P, Q, node_positions)\n",
    "    visibility_compat = visibility_compatibility(P, Q, node_positions)\n",
    "    return angle_compat * scale_compat * position_compat * visibility_compat\n",
    "\n",
    "\n",
    "#print(vector([(1,1),(4, 2)]))\n",
    "P=('A','B')\n",
    "Q=('C','D')\n",
    "# #node_positions = {'A':(0,0),'B':(1,0),'C':(0.3,1),'D':(1.3,1)}\n",
    "# #node_positions = {'A':(0,0),'B':(1,0),'C':(0,1),'D':(1,1)}\n",
    "# node_positions = {'A':(0.5,0),'B':(0.5,1),'C':(0,0.5),'D':(1,0.5)}\n",
    "\n",
    "# Example node positions\n",
    "#nodes_positions = {'A': (0, 0), 'B': (1, 1), 'C': (2, 0), 'D': (3, 2)}\n",
    "nodes_positions = {'A': (1, 1), 'B': (3, 1), 'C': (1, 2), 'D': (4, 1),'E':(3,2)}\n",
    "E = [('A', 'B'),('A','E'),('C', 'D')]\n",
    "\n",
    "#print(mid_point(E[1],nodes_positions))\n",
    "\n",
    "#print(angle_compatibility(P, Q, nodes_positions))\n",
    "#print(scale_compatibility(P, Q, nodes_positions))\n",
    "#print(distance_compatibility(P, Q, nodes_positions))\n",
    "#print(\"Visibility compatibility:\", visibility_compatibility(P, Q, nodes_positions))\n",
    "#print(\"Combined compatibility:\", combined_compatibility(E[1], E[2], nodes_positions))"
   ]
  },
  {
   "cell_type": "markdown",
   "metadata": {},
   "source": [
    "### Edge Bundling"
   ]
  },
  {
   "cell_type": "code",
   "execution_count": 44,
   "metadata": {},
   "outputs": [],
   "source": [
    "#edge_bundling(                      5, 40, 0.001, 1)\n",
    "def edge_bundling(E, nodes_positions, C, I, s, K):\n",
    "    c = 0  \n",
    "    t = 1  \n",
    "    B = {}\n",
    "    while c < C:\n",
    "        \n",
    "        if c == 0 and t == 1:\n",
    "            for edge in E:#edge -> ('A','B')\n",
    "                start_node, end_node = edge\n",
    "                B[edge] = [nodes_positions[start_node],mid_point(nodes_positions,edge),nodes_positions[end_node]]\n",
    "\n",
    "        elif c!=0 and t== 1: \n",
    "            for edge,path in B.items():#edge->('A','B')\n",
    "                for i in range(1,len(path)+2**c,2):#path-> [(0, 0), (0.5, 0.5), (1, 1)]\n",
    "                    B[edge].insert(i,mid_point((path[i-1],path[i])))\n",
    "          \n",
    "        #apply the forces\n",
    "        FPi = {edge:[(0,0) for _ in range(len(path))] for edge,path in B.items()}\n",
    "        for edge,path in B.items():\n",
    "            for i in range(1,len(path)-1):\n",
    "                kP = K*(len(path)-2)/distance(path[0],path[-1])\n",
    "                Fs = sum_vectors(alpha_vector(kP,vector([path[i],path[i-1]])), alpha_vector(kP,vector([path[i],path[i+1]])))\n",
    "                force = Fs\n",
    "                for other_edge,other_path in B.items():\n",
    "                    if other_edge != edge:\n",
    "                        constant = combined_compatibility(edge, other_edge, nodes_positions)\n",
    "                        Fe = alpha_vector(constant,unit_vector(vector([path[i],other_path[i]])))\n",
    "                        force = sum_vectors(force, Fe)\n",
    "\n",
    "                        FPi[edge][i] = sum_vectors(FPi[edge][i],force)#constant+ combined_compatibility(edge, other_edge, nodes_positions)/distance(path[i],other_path[j])\n",
    "\n",
    "        for edge,path in B.items():\n",
    "            for i in range(len(path)):\n",
    "                B[edge][i] = sum_vectors(B[edge][i], alpha_vector(s,FPi[edge][i]))\n",
    "\n",
    "        t += 1\n",
    "        if t == I:\n",
    "            t = 1\n",
    "            c += 1\n",
    "            s /= 2\n",
    "            I = int(2*I/3)\n",
    "    return B\n",
    "\n",
    "\n",
    "C = 4\n",
    "I = 15\n",
    "s = 0.04\n",
    "#FPi= np.zeros(n0)\n",
    "K  = 0.7\n",
    "E = [('A', 'B'),('A','E'),('C', 'D')]\n",
    "#nodes_positions = {'A': (0, 0), 'B': (1, 1), 'C': (2, 0), 'D': (3, 2)}\n",
    "nodes_positions = {'A': (0, 0), 'B': (3, 0), 'C': (1, 2), 'D': (4, 1),'E':(3,2)}\n",
    "\n",
    "#edge_bundling(E, nodes_positions, C, I, s, K)\n",
    "#def edge_bundling(E, nodes_positions, C, n0, I, s, FPi, K):"
   ]
  },
  {
   "cell_type": "code",
   "execution_count": 45,
   "metadata": {},
   "outputs": [],
   "source": [
    "def plot_bunding(b_edges,original=False):\n",
    "    if not original:\n",
    "        for edge,path in b_edges.items():\n",
    "            p = [np.array(subedge) for subedge in path]\n",
    "            curve_points = np.array([bezier_curve(p, t) for t in np.linspace(0, 1, 150)])\n",
    "            start_coord = curve_points[-20]\n",
    "            end_node_center = curve_points[-1]\n",
    "            direction = end_node_center - start_coord\n",
    "            direction_normalized = direction / np.linalg.norm(direction)\n",
    "            end_coord = end_node_center - 0.2 * direction_normalized\n",
    "            plt.arrow(*start_coord, *(end_coord - start_coord), head_width=0.06, head_length=0.06, fc='r', ec='r', zorder=1)#arrow\n",
    "            plt.plot(curve_points[:-19, 0], curve_points[:-19, 1],color= 'r',zorder = 1)#line\n",
    "            #new_path = np.array(path)\n",
    "            #plt.plot(new_path[:, 0], new_path[:, 1])\n",
    "\n",
    "#plot_bunding(edge_bundling(E, nodes_positions, C, I, s, K))"
   ]
  },
  {
   "cell_type": "code",
   "execution_count": 46,
   "metadata": {},
   "outputs": [],
   "source": [
    "#force_directed_layout('GapDevonshi',c_spring=3, c_rep =20,l=1.5,plot='Yes')\n",
    "#force_directed_layout('YoungestStrata',c_spring=8, c_rep =60,l=1,plot='Yes')\n",
    "#nodes = combine_subgraphs1(\"Datasets/argnet.dot\",subgraphs=['GapDevonshi','YoungestStrata'],cs = [3,8],crep =[10,60],ll=[0.5,0.3],original=True, bundling = False, bounding = True)"
   ]
  },
  {
   "cell_type": "markdown",
   "metadata": {},
   "source": [
    "### Combine subgraphs"
   ]
  },
  {
   "cell_type": "code",
   "execution_count": 47,
   "metadata": {},
   "outputs": [],
   "source": [
    "def combine_subgraphs(file,subgraphs=[],cs=[],crep=[],ll=[],step=5,nodes_positions = {},original = False,bundling = True,bounding = False,bezier = True):\n",
    "    colors = ['orange', 'green','blue', 'red', 'cyan', 'magenta', 'yellow', 'black', 'white',  'purple', 'brown']\n",
    "    intra = intra_subgraphs_edges(file) if subgraphs != [] else intra_subgraphs_edges(file,sg=False)\n",
    "    inter = inter_subgraphs_edges(file) if subgraphs != [] else inter_subgraphs_edges(file,sg=False)\n",
    "\n",
    "    #if the nodes positions were not already set\n",
    "    if nodes_positions == {}:\n",
    "        if subgraphs!= []:\n",
    "            i=0\n",
    "            nodes, edges = get_data_subgraph(file)\n",
    "            for subgraph in subgraphs:\n",
    "                create_pydot_graph(nodes[subgraph], intra[subgraph],subgraph,dir = True)\n",
    "                if original == False:\n",
    "                    nodes_positions[subgraph] = force_directed_layout(str(subgraph),c_spring=cs[i], c_rep = crep[i],l=ll[i])\n",
    "                else: \n",
    "                    nodes_positions[subgraph] = force_directed_layout(str(subgraph),plot = 'Yes',c_spring=cs[i], c_rep = crep[i],l=ll[i],c=colors[i])\n",
    "                i+=1\n",
    "            \n",
    "            x_max = 0\n",
    "            for subgraph in nodes_positions:\n",
    "                nodes_positions[subgraph] = { node: (coord[0]+x_max+step,coord[1]) for node,coord in nodes_positions[subgraph].items()}\n",
    "                x_max = max([ node[0] for node in nodes_positions[subgraph].values()])\n",
    "        else:\n",
    "            i=0\n",
    "            subgraphs = list(get_subgraphs(file).keys())\n",
    "            nodes = get_subgraphs(file)\n",
    "            for subgraph in subgraphs:\n",
    "                create_pydot_graph(nodes[subgraph], intra[subgraph],subgraph,dir = True)\n",
    "                if original == False:\n",
    "                    nodes_positions[subgraph] = force_directed_layout(str(subgraph),c_spring=cs[i], c_rep = crep[i],l=ll[i])\n",
    "                else: \n",
    "                    nodes_positions[subgraph] = force_directed_layout(str(subgraph),plot = 'Yes',c_spring=cs[i], c_rep = crep[i],l=ll[i],c=colors[i])\n",
    "                i+=1\n",
    "            \n",
    "            x_max = 0\n",
    "            for subgraph in nodes_positions:\n",
    "                nodes_positions[subgraph] = { node: (coord[0]+x_max+step,coord[1]) for node,coord in nodes_positions[subgraph].items()}\n",
    "                x_max = max([ node[0] for node in nodes_positions[subgraph].values()])\n",
    "\n",
    "\n",
    "    \n",
    "    \n",
    "    plt.figure(figsize=(12.5*len(subgraphs), 12.5))     \n",
    "    i= 0\n",
    "    \n",
    "    new_nodes_positions = {}\n",
    "    for subgraph in nodes_positions:\n",
    "        for node,pos in nodes_positions[subgraph].items():\n",
    "            plt.scatter(pos[0], pos[1], color=colors[i], s=500, marker='o', zorder =2)\n",
    "            plt.text(pos[0], pos[1], str(node), fontsize=10, ha='center', va='center')\n",
    "\n",
    "        #bounding boxes\n",
    "        if bounding == True:\n",
    "            min_x = min([node[0] for node in nodes_positions[subgraph].values()])\n",
    "            max_x = max([node[0] for node in nodes_positions[subgraph].values()])\n",
    "            min_y = min([node[1] for node in nodes_positions[subgraph].values()])\n",
    "            max_y = max([node[1] for node in nodes_positions[subgraph].values()])\n",
    "            plt.gca().add_patch(plt.Rectangle((min_x-2, min_y-2), max_x - min_x+2*2, max_y - min_y+2*2, fill=True, linestyle='--', color=colors[i], alpha=0.2))\n",
    "        i+=1\n",
    "\n",
    "        #intra-cluster edges\n",
    "        for edge in intra[subgraph]:\n",
    "            start_pos = nodes_positions[subgraph][edge[0]]\n",
    "            end_pos = nodes_positions[subgraph][edge[1]]\n",
    "            plt.plot([start_pos[0], end_pos[0]], [start_pos[1], end_pos[1]], 'k-',zorder = 1) \n",
    "        \n",
    "\n",
    "        #inter-cluster-edges\n",
    "        new_nodes_positions = {node:coord for node,coord in nodes_positions[subgraph].items()}\n",
    "        for subgraph2 in nodes_positions:\n",
    "            if subgraph2 != subgraph:\n",
    "                new_nodes_positions.update(nodes_positions[subgraph2])\n",
    "                #with bundling \n",
    "                if bundling == True:\n",
    "                    b_edges = edge_bundling(inter[str(subgraph+'_'+subgraph2)], new_nodes_positions, 5, 40, 0.001, 1).items()\n",
    "                    for edge,path in b_edges:\n",
    "                        #with bezier curve to smooth the edges\n",
    "                        if bezier == True:\n",
    "                            p = [np.array(subedge) for subedge in path]\n",
    "                            curve_points = np.array([bezier_curve(p, t) for t in np.linspace(0, 1, 150)])\n",
    "                            start_coord = curve_points[-20]\n",
    "                            end_node_center = curve_points[-1]\n",
    "                            direction = end_node_center - start_coord\n",
    "                            direction_normalized = direction / np.linalg.norm(direction)\n",
    "                            end_coord = end_node_center - 0.2 * direction_normalized\n",
    "                            plt.arrow(*start_coord, *(end_coord - start_coord), head_width=0.06, head_length=0.06, fc='r', ec='r',alpha=0.2, zorder=1)#arrow\n",
    "                            plt.plot(curve_points[:-19, 0], curve_points[:-19, 1],color= 'r',alpha = 0.2,zorder = 1)#line\n",
    "                        \n",
    "                        #without bezier curve\n",
    "                        else:\n",
    "                            new_path = np.array(path)\n",
    "                            plt.plot(new_path[:, 0], new_path[:, 1],'r-',alpha = 0.2,zorder=1)\n",
    "                \n",
    "                #without bundling\n",
    "                else:\n",
    "                    for edge in inter_subgraphs_edges(file)[str(subgraph+'_'+subgraph2)]:\n",
    "                        start_pos = new_nodes_positions[edge[0]]\n",
    "                        end_pos = new_nodes_positions[edge[1]]\n",
    "                        plt.plot([start_pos[0], end_pos[0]], [start_pos[1], end_pos[1]], 'r-',zorder = 1)\n",
    "\n",
    "    plt.axis('off')\n",
    "    plt.gca().set_facecolor('w')\n",
    "    plt.show()\n",
    "    return nodes_positions\n",
    "\n",
    "#nodes = combine_subgraphs(\"Datasets/polblogs.dot\",cs = [3,8],crep =[10,60],ll=[1,1],original=True, bundling = False, bounding = True)\n"
   ]
  },
  {
   "cell_type": "markdown",
   "metadata": {},
   "source": [
    "## Results"
   ]
  },
  {
   "cell_type": "markdown",
   "metadata": {},
   "source": [
    "### Argumentation network"
   ]
  },
  {
   "cell_type": "markdown",
   "metadata": {},
   "source": [
    "We have two subgraphs: \"Youngest Devonian Strata\" and \"Gap in the Sequence of Devonshi\""
   ]
  },
  {
   "cell_type": "code",
   "execution_count": 48,
   "metadata": {},
   "outputs": [],
   "source": [
    "# nodes = combine_subgraphs(\"Datasets/argnet.dot\",subgraphs=['GapDevonshi','YoungestStrata'],cs = [3,8],crep =[10,60],ll=[1,1],original=True, bundling = False, bounding = True)\n",
    "# combine_subgraphs(\"Datasets/argnet.dot\",subgraphs=['GapDevonshi','YoungestStrata'],nodes_positions = nodes ,cs = [3,8],crep =[10,60],ll=[1,1],original=False, bundling = True, bounding = False,bezier = False)\n",
    "# combine_subgraphs(\"Datasets/argnet.dot\",subgraphs=['GapDevonshi','YoungestStrata'],nodes_positions = nodes ,cs = [3,8],crep =[10,60],ll=[1,1],original=False, bundling = True, bounding = False)"
   ]
  },
  {
   "cell_type": "markdown",
   "metadata": {},
   "source": [
    "### Political blogosphere network"
   ]
  },
  {
   "cell_type": "markdown",
   "metadata": {},
   "source": [
    "We have two subgraphs: left or liberal, and right or conservative"
   ]
  },
  {
   "cell_type": "code",
   "execution_count": 49,
   "metadata": {},
   "outputs": [],
   "source": [
    "#nodes = combine_subgraphs(\"Datasets/polblogs.dot\",cs = [3,8],crep =[10,60],ll=[1,1],original=True, bundling = False, bounding = True)\n",
    "# combine_subgraphs(\"Datasets/argnet.dot\",nodes_positions = nodes ,cs = [3,8],crep =[10,60],ll=[1,1],original=False, bundling = True, bounding = False,bezier = False)\n",
    "# combine_subgraphs(\"Datasets/argnet.dot\",nodes_positions = nodes ,cs = [3,8],crep =[10,60],ll=[1,1],original=False, bundling = True, bounding = False)"
   ]
  }
 ],
 "metadata": {
  "kernelspec": {
   "display_name": "base",
   "language": "python",
   "name": "python3"
  },
  "language_info": {
   "codemirror_mode": {
    "name": "ipython",
    "version": 3
   },
   "file_extension": ".py",
   "mimetype": "text/x-python",
   "name": "python",
   "nbconvert_exporter": "python",
   "pygments_lexer": "ipython3",
   "version": "3.8.8"
  }
 },
 "nbformat": 4,
 "nbformat_minor": 2
}
