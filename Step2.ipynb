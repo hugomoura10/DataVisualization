{
 "cells": [
  {
   "cell_type": "markdown",
   "metadata": {},
   "source": [
    "# Step 2"
   ]
  },
  {
   "cell_type": "code",
   "execution_count": null,
   "metadata": {},
   "outputs": [],
   "source": [
    "import pydot\n",
    "import matplotlib.pyplot as plt\n",
    "import time\n",
    "import math\n",
    "import random\n",
    "import numpy as np\n",
    "from scipy.special import comb\n",
    "#import networkx as nx"
   ]
  },
  {
   "cell_type": "code",
   "execution_count": 2,
   "metadata": {},
   "outputs": [],
   "source": [
    "%run '/Users/tomascarrilho/Desktop/Faculdade/Data Visualization/Project/Data_Visualization/Step1.ipynb'"
   ]
  },
  {
   "cell_type": "markdown",
   "metadata": {},
   "source": [
    "## Trees"
   ]
  },
  {
   "cell_type": "markdown",
   "metadata": {},
   "source": [
    "### First Layout"
   ]
  },
  {
   "cell_type": "code",
   "execution_count": null,
   "metadata": {},
   "outputs": [],
   "source": [
    "def layered_ish(file): #node_positions\n",
    "    '''Returns the node positions {node:(x,y) and also the final tree (edges and stuff)\n",
    "    '''\n",
    "    total = 0\n",
    "    n=0\n",
    "    graph = get_data(file)\n",
    "    nodes = graph[0]\n",
    "    node_positions = {node.get_name(): (0, 0) for node in nodes}\n",
    "    done_nodes = set()\n",
    "    node_childs = f_childs(file)[1]\n",
    "    min_y = 0\n",
    "\n",
    "    for node in nodes:\n",
    "        done_nodes.add(str(node.get_name()))\n",
    "        childs = node_childs[str(node.get_name())]\n",
    "        parent_x = node_positions[str(node.get_name())][0]\n",
    "        parent_y = node_positions[str(node.get_name())][1]\n",
    "        step = 3\n",
    "\n",
    "        if len(node_childs[str(node.get_name())]) == 1 and str(node_childs[str(node.get_name())][0]) not in done_nodes:\n",
    "            child_x = parent_x + step\n",
    "            child_y = parent_y\n",
    "            node_positions[str(node_childs[str(node.get_name())][0])] = (child_x, child_y)\n",
    "            done_nodes.add(str(node_childs[str(node.get_name())][0]))\n",
    "            \n",
    "        elif len(node_childs[str(node.get_name())]) >1:\n",
    "            new_childs = len([child for child in node_childs[str(node.get_name())] if child not in done_nodes])\n",
    "            max_y = (new_childs-1)*3\n",
    "            \n",
    "            done_childs = []\n",
    "            for child in [new_child for new_child in node_childs[str(node.get_name())] if new_child not in done_nodes]:\n",
    "                done_childs.append(child)\n",
    "                child_x = parent_x + step\n",
    "                child_y = parent_y + max_y\n",
    "                \n",
    "                node_positions[child] = (child_x, child_y)\n",
    "                done_nodes.add(str(child))\n",
    "                max_y -= 6\n",
    "\n",
    "            if len(done_childs)>0:\n",
    "                min_y = node_positions[done_childs[-1]][1]\n",
    "    return node_positions\n",
    "\n",
    "#write_ordered_dic('Datasets/LesMiserables.dot')\n",
    "# tree = layered_ish('Datasets/LesMiserables.dot')\n",
    "# tree"
   ]
  },
  {
   "cell_type": "markdown",
   "metadata": {},
   "source": [
    "### Constructing a BFS tree"
   ]
  },
  {
   "cell_type": "code",
   "execution_count": null,
   "metadata": {},
   "outputs": [],
   "source": [
    "def BFS_tree(file): #final_tree: dic\n",
    "    '''Returns the BFS tree (edges and stuff) {parent:[childs]}\n",
    "    '''\n",
    "    graph = get_data(file)\n",
    "    nodes = graph[0]\n",
    "    done_nodes = set()\n",
    "    node_childs = f_childs(file)[1]\n",
    "    tree = {node.get_name(): [] for node in nodes}\n",
    "    \n",
    "    for node in nodes:\n",
    "        done_nodes.add(str(node.get_name()))\n",
    "        done_childs = []\n",
    "        for child in [new_child for new_child in node_childs[str(node.get_name())] if new_child not in done_nodes]:\n",
    "            done_childs.append(child)\n",
    "            done_nodes.add(str(child))\n",
    "            tree[node.get_name()].append(str(child))    \n",
    "    final_tree = {i:j for i,j in tree.items() if j!= []}\n",
    "    return final_tree\n",
    "\n",
    "#BFS_tree('ordered_LesMiserables.dot')\n",
    "#BFS_tree('Datasets/LesMiserables.dot')"
   ]
  },
  {
   "cell_type": "markdown",
   "metadata": {},
   "source": [
    "### Constructing the DFS tree"
   ]
  },
  {
   "cell_type": "code",
   "execution_count": null,
   "metadata": {},
   "outputs": [],
   "source": [
    "def tree_layout_DFS(file):\n",
    "    #returns the coordinates for each node \n",
    "    graph = get_data(file)\n",
    "    nodes = graph[0]\n",
    "    edges = graph[1]\n",
    "\n",
    "    node_positions = {node.get_name(): (0, 0) for node in nodes}\n",
    "    done_nodes= []\n",
    "    node_child_count = f_childs(file)[0]\n",
    "    node_childs = f_childs(file)[1]\n",
    "    visited_nodes = []\n",
    "    tree = {node.get_name(): [] for node in nodes}\n",
    "    return dfs(node_positions, 1, node_childs=node_childs, visited_nodes=visited_nodes, edges=edges, tree=tree)\n",
    "\n",
    "\n",
    "\n",
    "def dfs(node_positions, node, node_childs, visited_nodes, edges, tree, x=0, y=0): #node_positions, final_tree\n",
    "    visited_nodes.append(node)\n",
    "    parent_x, parent_y = x, y\n",
    "    \n",
    "    step_x = 1  \n",
    "    step_y = 2  \n",
    "\n",
    "    nchilds = len(node_childs[str(node)])\n",
    "    if nchilds == 0:\n",
    "        return node_positions\n",
    "\n",
    "    child_y = parent_y - step_y\n",
    "    total_width = step_x * (nchilds - 1)\n",
    "    start_x = parent_x - total_width / 2\n",
    "    \n",
    "    for i, child in enumerate(node_childs[str(node)]):\n",
    "        if child not in visited_nodes:\n",
    "            child_x = start_x + i * step_x\n",
    "            node_positions[str(child)] = (child_x, child_y)\n",
    "\n",
    "            tree[str(node)].append(child)\n",
    "            dfs(node_positions, child, node_childs, visited_nodes, edges, tree, child_x, child_y)\n",
    "    \n",
    "    final_tree = {i:j for i,j in tree.items() if j!= []}\n",
    "    return node_positions, final_tree\n",
    "\n",
    "#print(tree_layout_DFS('Datasets/LesMiserables.dot')[0])\n",
    "#show_graph('Datasets/LesMiserables.dot','layered_ish' ,'DFS',(18,18))"
   ]
  },
  {
   "cell_type": "markdown",
   "metadata": {},
   "source": [
    "## Radial Layout"
   ]
  },
  {
   "cell_type": "markdown",
   "metadata": {},
   "source": []
  },
  {
   "cell_type": "code",
   "execution_count": null,
   "metadata": {},
   "outputs": [],
   "source": [
    "def f_edges1(file_name): #should be deleted, node_edges_count,node_edges\n",
    "    '''Returns the number and list of edges for each one of the nodes\n",
    "    '''\n",
    "    nodes = get_data(file_name)[0]\n",
    "    edges = get_data(file_name)[1]\n",
    "    node_edges_count = {node.get_name(): 0 for node in nodes}\n",
    "    node_edges = {node.get_name(): [] for node in nodes}\n",
    "    \n",
    "    parents = f_parents(file_name)[1]\n",
    "    childs = f_childs(file_name)[1]\n",
    "\n",
    "    for node,l_parents in parents.items():\n",
    "        for parent in l_parents:\n",
    "            node_edges_count[node] +=1\n",
    "            node_edges[node].append(parent)\n",
    "    \n",
    "    for node,l_childs in childs.items():\n",
    "        for child in l_childs:\n",
    "            node_edges_count[node] +=1\n",
    "            node_edges[node].append(child)\n",
    "    return node_edges_count,node_edges\n",
    "\n",
    "#final_edges = f_edges1('Datasets/LesMiserables.dot')[1]\n",
    "\n",
    "def sort_nodes_degree(file): #Returns a sorted dictionary containing the nodes, as keys, and a list of it's childs, as values, ordered based on the degree (> to <)\n",
    "    '''Returns a sorted dictionary containing the nodes, as keys, and a list of it's childs, as values, ordered based on the degree (> to <)\n",
    "    '''\n",
    "    return dict(sorted(f_edges(file)[1].items(), key=lambda item: len(item[1]), reverse=True))\n",
    "\n",
    "# dic = sort_nodes_degree('Datasets/LesMiserables.dot')\n",
    "# dic\n",
    "\n",
    "def write_ordered_dic(file,new_file): #writes a new .dot file but with the nodes ordered based of their degree\n",
    "    '''writes a new .dot file but with the nodes ordered based of their degree\n",
    "    '''\n",
    "    dic = sort_nodes_degree(file)\n",
    "    nodes_list = get_data(file)[2]\n",
    "    edge_list = get_data(file)[3]\n",
    "    weigths = get_data(file)[4]\n",
    "    done_nodes = set()\n",
    "\n",
    "    graph = pydot.Dot(graph_type='graph')\n",
    "\n",
    "    # for node_ish in nodes_list:\n",
    "    #     node = pydot.Node(node_ish)\n",
    "    #     graph.add_node(node)\n",
    "    \n",
    "    for node_ish,childs in dic.items():\n",
    "        node = pydot.Node(node_ish)\n",
    "        if node_ish not in done_nodes:\n",
    "            graph.add_node(node)\n",
    "            done_nodes.add(node_ish)\n",
    "        for child_ish in childs:\n",
    "            child = pydot.Node(child_ish)\n",
    "            if child_ish not in done_nodes:\n",
    "                graph.add_node(child)\n",
    "                done_nodes.add(child_ish)\n",
    "            #graph.add_node(child)\n",
    "            edge_ish = (str(node_ish), str(child_ish) )\n",
    "            if edge_ish not in edge_list:\n",
    "                edge_ish = (str(child_ish), str(node_ish))\n",
    "            w = int(weigths[edge_ish])\n",
    "            edge = pydot.Edge(str(node_ish), str(child_ish), weight=w)\n",
    "            graph.add_edge(edge)\n",
    "    \n",
    "    graph.write(new_file)\n",
    "\n",
    "#write_ordered_dic('Datasets/LesMiserables.dot','example.dot')\n",
    "\n",
    "def get_key(dictionary, value): #Return the key of a specific value. \n",
    "    '''Return the key of a specific value. \n",
    "    Changed the function while working on the node_positioning function to work with tuples. Need to check\n",
    "    whether this affects other functions\n",
    "    '''\n",
    "    if isinstance(value, tuple):\n",
    "        return next((key for key, val in dictionary.items() if val == value), None)\n",
    "    else:\n",
    "        return next((key for key, val in dictionary.items() if value in val), None)\n",
    "\n",
    "def count_descendants(tree, node_name): #descendants\n",
    "    'returns the number (int) of descendants of a node'\n",
    "    if node_name not in tree:\n",
    "        return 0\n",
    "    \n",
    "    descendants = 0\n",
    "    if node_name in tree:\n",
    "        children = tree[node_name]\n",
    "        descendants += len(children)  # Add the direct children count\n",
    "        for child in children:\n",
    "            descendants += count_descendants(tree, child)\n",
    "    return descendants\n",
    "\n",
    "def count_ancestors(tree, node_name): #ancestors\n",
    "    'returns the number (int) of ancestors of a node'\n",
    "    ancestors = 0\n",
    "    nodes = tree\n",
    "    key = get_key(tree,node_name)\n",
    "    if key != None:\n",
    "        parent = get_key(tree,node_name)\n",
    "        ancestors += 1           \n",
    "        ancestors += count_ancestors(tree, parent)\n",
    "    return ancestors\n",
    "\n",
    "def f_layers(file,layout='BFS'): #Organizes the nodes based on the layer their own on a list of lists(index = layer)\n",
    "    '''Organizes the nodes based on the layer their own on a list of lists(index = layer)\n",
    "    '''\n",
    "    #if layout == 'BFS':\n",
    "    #    tree = radial(file)[0]\n",
    "    layers = [[],[],[],[],[],[],[],[],[],[],[],[],[],[],[],[],[],[],[],[],[],[],[],[],[]]\n",
    "\n",
    "    if layout == 'BFS':\n",
    "        tree = BFS_tree(file)\n",
    "        node_positions = layered_ish(file)\n",
    "        for node, childs in tree.items():\n",
    "            for child in childs:\n",
    "                layer = int(node_positions[child][0]/3)\n",
    "                layers[layer].append(child)\n",
    "    if layout == 'DFS':\n",
    "        tree = tree_layout_DFS(file)[1]\n",
    "        node_positions = tree_layout_DFS(file)[0]\n",
    "        for node, childs in tree.items():\n",
    "            for child in childs:\n",
    "                layer = -int(node_positions[child][1]/2)\n",
    "                layers[layer].append(child)\n",
    "    root = list(tree.keys())[0]\n",
    "    layers[0].append(root)\n",
    "    return [layer for layer in layers if layer != []]\n",
    "\n",
    "#ans_layers =f_layers('Datasets/LesMiserables.dot',layout='DFS')"
   ]
  },
  {
   "cell_type": "code",
   "execution_count": null,
   "metadata": {},
   "outputs": [],
   "source": [
    "def create_pydot_graph(nodes, edges, filename,edge_weights={},dir = False): #created a .dot file\n",
    "    if dir == False:\n",
    "        graph = pydot.Dot(graph_type='graph')\n",
    "    \n",
    "    else: \n",
    "        graph = pydot.Dot(graph_type='digraph')\n",
    "\n",
    "    # Add nodes to the graph\n",
    "    for node in nodes:\n",
    "        graph.add_node(pydot.Node(node))\n",
    "\n",
    "    # Add edges to the graph\n",
    "    for edge in edges:\n",
    "        src, dest = edge\n",
    "        weight = edge_weights.get(edge, 0) \n",
    "        graph.add_edge(pydot.Edge(src, dest, label=str(weight)))\n",
    "        \n",
    "\n",
    "    graph.write(filename)\n",
    "# nodes = [i for i in range(0,10)]\n",
    "# edges = [(0, 1), (1, 2), (2, 3), (3, 0), (0, 4), (1, 5), (2, 6), (3, 7), (4, 5), (5, 6), (6, 7), (7, 4), (4, 8), (5, 9)]\n",
    "# create_pydot_graph(nodes, edges,'test_force12.dot',dir = True)"
   ]
  },
  {
   "cell_type": "markdown",
   "metadata": {},
   "source": [
    "### Radial Implementation"
   ]
  },
  {
   "cell_type": "code",
   "execution_count": null,
   "metadata": {},
   "outputs": [],
   "source": [
    "def radial(file,tree_type = 'BFS',ordesection = False): #node_positions\n",
    "    '''returns the nodes\\' positions if we apply the radial layout implementation\n",
    "    '''\n",
    "    if ordesection != False:\n",
    "        new_file = write_ordesection_dic(file)\n",
    "        file = new_file\n",
    "    data = get_data(file)\n",
    "    nodes,nodes_list,edge_list,weigths = data[0],data[2],data[3],data[4]\n",
    "    if tree_type == 'DFS':\n",
    "        tree = tree_layout_DFS(file)[1]\n",
    "        layers = f_layers(file,layout='DFS')\n",
    "    \n",
    "    elif tree_type == 'BFS':\n",
    "        tree = BFS_tree(file)\n",
    "        layers = f_layers(file,layout='BFS')\n",
    "    node_positions = {node.get_name(): (0, 0) for node in nodes}\n",
    "    root = list(tree.keys())[0]\n",
    "\n",
    "    start_angle=0\n",
    "    for subtree in tree:\n",
    "        angle = 0\n",
    "        for node in tree[subtree]:\n",
    "            for i in layers:\n",
    "                if node in i:\n",
    "                    layer = layers.index(i)\n",
    "\n",
    "            radius = 3*layer\n",
    "            parent_x = node_positions[get_key(tree,node)][0]\n",
    "            parent_y = node_positions[get_key(tree,node)][1]\n",
    "\n",
    "            #angle for the section for each node\n",
    "            section = 2*math.pi*(1+count_descendants(tree, subtree))/count_descendants(tree, root)\n",
    "            #increment between sibling nodes\n",
    "            increment = 2*math.pi*(count_descendants(tree, node)+1)/count_descendants(tree, root)\n",
    "            \n",
    "            if layer > 1 and tree[subtree].index(node)==0:\n",
    "                #the starting angle must be the parent angle - half of section              \n",
    "                start_angle = math.acos(parent_x/(3*(layer-1)))-section/2\n",
    "                if parent_y <0:\n",
    "                    #acos has domain [0,pi], so we need to fix it where x>pi\n",
    "                    start_angle = -math.acos(parent_x/(3*(layer-1)))-section/2\n",
    "                angle+= start_angle\n",
    "            \n",
    "            angle+= increment/2\n",
    "            child_x = math.cos(angle)*radius\n",
    "            child_y = math.sin(angle)*radius\n",
    "            angle+= increment/2\n",
    "            node_positions[node]=(child_x,child_y)\n",
    "   \n",
    "    return node_positions\n",
    "\n",
    "#write_ordesection_dic('Datasets/LesMiserables.dot')\n",
    "#ans = radial('ordered_LesMiserables.dot',tree_type='DFS')\n",
    "#radial('Datasets/LesMiserables.dot',tree_type='DFS')\n"
   ]
  },
  {
   "cell_type": "markdown",
   "metadata": {},
   "source": [
    "## Results"
   ]
  },
  {
   "cell_type": "markdown",
   "metadata": {},
   "source": [
    "### BFS"
   ]
  },
  {
   "cell_type": "code",
   "execution_count": null,
   "metadata": {},
   "outputs": [],
   "source": [
    "#write_ordered_dic('Datasets/LesMiserables.dot','ordered_LesMiserables.dot')\n",
    "#show_graph('Datasets/LesMiserables.dot','layered_ish')"
   ]
  },
  {
   "cell_type": "markdown",
   "metadata": {},
   "source": [
    "### DFS"
   ]
  },
  {
   "cell_type": "code",
   "execution_count": null,
   "metadata": {},
   "outputs": [],
   "source": [
    "#show_graph('Datasets/LesMiserables.dot','layered_ish',tree = 'DFS')"
   ]
  },
  {
   "cell_type": "markdown",
   "metadata": {},
   "source": [
    "### Radial"
   ]
  },
  {
   "cell_type": "markdown",
   "metadata": {},
   "source": [
    "BFS"
   ]
  },
  {
   "cell_type": "code",
   "execution_count": null,
   "metadata": {},
   "outputs": [],
   "source": [
    "#show_graph('Datasets/LesMiserables.dot','radial',tree = 'BFS')\n"
   ]
  },
  {
   "cell_type": "markdown",
   "metadata": {},
   "source": [
    "DFS"
   ]
  },
  {
   "cell_type": "code",
   "execution_count": null,
   "metadata": {},
   "outputs": [],
   "source": [
    "#show_graph('Datasets/LesMiserables.dot','radial',tree = 'DFS')"
   ]
  }
 ],
 "metadata": {
  "kernelspec": {
   "display_name": "base",
   "language": "python",
   "name": "python3"
  },
  "language_info": {
   "codemirror_mode": {
    "name": "ipython",
    "version": 3
   },
   "file_extension": ".py",
   "mimetype": "text/x-python",
   "name": "python",
   "nbconvert_exporter": "python",
   "pygments_lexer": "ipython3",
   "version": "3.8.8"
  }
 },
 "nbformat": 4,
 "nbformat_minor": 2
}
